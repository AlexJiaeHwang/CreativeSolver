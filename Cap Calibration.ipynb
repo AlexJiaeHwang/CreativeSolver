{
 "metadata": {
  "name": "",
  "signature": "sha256:d170f74ca36d1bf311fe920e849c0352f0184ae1b0ad63ad8a8e760337b9e543"
 },
 "nbformat": 3,
 "nbformat_minor": 0,
 "worksheets": [
  {
   "cells": [
    {
     "cell_type": "heading",
     "level": 1,
     "metadata": {},
     "source": [
      "Calibration to Caps"
     ]
    },
    {
     "cell_type": "markdown",
     "metadata": {},
     "source": [
      "Calpet values:\n",
      " \n"
     ]
    },
    {
     "cell_type": "code",
     "collapsed": false,
     "input": [
      "from IPython.display import Latex\n",
      " "
     ],
     "language": "python",
     "metadata": {},
     "outputs": [],
     "prompt_number": 1
    },
    {
     "cell_type": "code",
     "collapsed": false,
     "input": [
      "Latex(r\"\"\"\\begin{eqnarray}L(T_{n-1}, T_{n-1}, T_{n}) = \n",
      "   F(T_{0}, T_{n-1}, T_{n}) = \\left( \\frac{B(T_{0}, T_{n-1})}{B(T_{0}, T_{n})} - \n",
      "   1 \\right)\\frac{1}{\\delta_{n-1, n}}\\end{eqnarray}\"\"\")"
     ],
     "language": "python",
     "metadata": {},
     "outputs": [
      {
       "latex": [
        "\\begin{eqnarray}L(T_{n-1}, T_{n-1}, T_{n}) = \n",
        "   F(T_{0}, T_{n-1}, T_{n}) = \\left( \\frac{B(T_{0}, T_{n-1})}{B(T_{0}, T_{n})} - \n",
        "   1 \\right)\\frac{1}{\\delta_{n-1, n}}\\end{eqnarray}"
       ],
       "metadata": {},
       "output_type": "pyout",
       "prompt_number": 2,
       "text": [
        "<IPython.core.display.Latex at 0x2db6350>"
       ]
      }
     ],
     "prompt_number": 2
    },
    {
     "cell_type": "code",
     "collapsed": false,
     "input": [
      "Latex(r''' \\begin{eqnarray}c\\left(T_{0}, T_{n-1}, T_{n},\n",
      "\\sigma^{cpl}_{n-1, n}\\right) B(T_{0}, T_{n})\\delta_{n-1, n}[F(T_{0}, T_{n-1}T_{n}N(d_{1}) - XN(d_2))]\n",
      "\\end{eqnarray}''')"
     ],
     "language": "python",
     "metadata": {},
     "outputs": [
      {
       "latex": [
        " \\begin{eqnarray}c\\left(T_{0}, T_{n-1}, T_{n},\n",
        "\\sigma^{cpl}_{n-1, n}\\right) B(T_{0}, T_{n})\\delta_{n-1, n}[F(T_{0}, T_{n-1}T_{n}N(d_{1}) - XN(d_2))]\n",
        "\\end{eqnarray}"
       ],
       "metadata": {},
       "output_type": "pyout",
       "prompt_number": 7,
       "text": [
        "<IPython.core.display.Latex at 0x2db6270>"
       ]
      }
     ],
     "prompt_number": 7
    },
    {
     "cell_type": "code",
     "collapsed": false,
     "input": [
      "Latex(r'''\\begin{eqnarray}N(d_1) = \\frac{ln\\left(\\frac{F(T_0, T_{n-1}, T_{n})}{X}\\right) \n",
      "+\\frac{\\sigma^{cpl}_{n-1, n}\\delta_{0, n-1}}{2}}{\\sigma^{cpl}_{n-1, n}\\sqrt{\\delta_{0, n-1}}} \\\\\n",
      "N(d_2) = \\frac{ln\\left(\\frac{F(T_0, T_{n-1}, T_{n})}{X}\\right) \n",
      "-\\frac{\\sigma^{cpl}_{n-1, n}\\delta_{0, n-1}}{2}}{\\sigma^{cpl}_{n-1, n}\\sqrt{\\delta_{0, n-1}}}\n",
      "\\end{eqnarray} ''')"
     ],
     "language": "python",
     "metadata": {},
     "outputs": [
      {
       "latex": [
        "\\begin{eqnarray}N(d_1) = \\frac{ln\\left(\\frac{F(T_0, T_{n-1}, T_{n})}{X}\\right) \n",
        "+\\frac{\\sigma^{cpl}_{n-1, n}\\delta_{0, n-1}}{2}}{\\sigma^{cpl}_{n-1, n}\\sqrt{\\delta_{0, n-1}}} \\\\\n",
        "N(d_2) = \\frac{ln\\left(\\frac{F(T_0, T_{n-1}, T_{n})}{X}\\right) \n",
        "-\\frac{\\sigma^{cpl}_{n-1, n}\\delta_{0, n-1}}{2}}{\\sigma^{cpl}_{n-1, n}\\sqrt{\\delta_{0, n-1}}}\n",
        "\\end{eqnarray} "
       ],
       "metadata": {},
       "output_type": "pyout",
       "prompt_number": 14,
       "text": [
        "<IPython.core.display.Latex at 0x2db6b70>"
       ]
      }
     ],
     "prompt_number": 14
    },
    {
     "cell_type": "code",
     "collapsed": false,
     "input": [
      "from QuantLib import*\n",
      "t = Date(21, January, 2005)\n",
      "T_0 = Date(21, January, 2005)\n",
      "T_n_1 = Date(25, January, 2006)\n",
      "T_n = Date(25, April, 2006)\n",
      "B_n_1 = 0.974658\n",
      "B_n = 0.9712884\n",
      "X = 0.02361\n",
      "sigma = 0.2015\n",
      "dc = Actual365Fixed()\n",
      "delta = dc.yearFraction(T_n_1, T_n)\n",
      "forward = (B_n_1/B_n-1)/delta\n",
      "from scipy.stats import norm\n"
     ],
     "language": "python",
     "metadata": {},
     "outputs": [],
     "prompt_number": 16
    },
    {
     "cell_type": "code",
     "collapsed": false,
     "input": [],
     "language": "python",
     "metadata": {},
     "outputs": []
    }
   ],
   "metadata": {}
  }
 ]
}